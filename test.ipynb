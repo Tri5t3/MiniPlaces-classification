{
 "cells": [
  {
   "cell_type": "code",
   "execution_count": 1,
   "metadata": {},
   "outputs": [
    {
     "name": "stdout",
     "output_type": "stream",
     "text": [
      "------------------------------------------------------------------------\n",
      "      Layer (type)         Output Shape         Param #     Tr. Param #\n",
      "========================================================================\n",
      "          Conv2d-1      [50, 6, 28, 28]             456             456\n",
      "       MaxPool2d-2      [50, 6, 14, 14]               0               0\n",
      "          Conv2d-3     [50, 16, 10, 10]           2,416           2,416\n",
      "       MaxPool2d-4       [50, 16, 5, 5]               0               0\n",
      "         Flatten-5            [50, 400]               0               0\n",
      "          Linear-6            [50, 256]         102,656         102,656\n",
      "          Linear-7            [50, 128]          32,896          32,896\n",
      "          Linear-8            [50, 100]          12,900          12,900\n",
      "========================================================================\n",
      "Total params: 151,324\n",
      "Trainable params: 151,324\n",
      "Non-trainable params: 0\n",
      "------------------------------------------------------------------------\n"
     ]
    }
   ],
   "source": [
    "from student_code import *\n",
    "from pytorch_model_summary import summary\n",
    "\n",
    "model = LeNet()\n",
    "print(summary(model, torch.zeros(50, 3, 32, 32)))"
   ]
  },
  {
   "cell_type": "code",
   "execution_count": 2,
   "metadata": {},
   "outputs": [
    {
     "data": {
      "text/plain": [
       "0.151324"
      ]
     },
     "execution_count": 2,
     "metadata": {},
     "output_type": "execute_result"
    }
   ],
   "source": [
    "count_model_params()"
   ]
  }
 ],
 "metadata": {
  "interpreter": {
   "hash": "d8238f317c75f2772202101219d1bc561224774ccdf5daeb1c652a83710b959e"
  },
  "kernelspec": {
   "display_name": "Python 3.9.7 64-bit",
   "language": "python",
   "name": "python3"
  },
  "language_info": {
   "codemirror_mode": {
    "name": "ipython",
    "version": 3
   },
   "file_extension": ".py",
   "mimetype": "text/x-python",
   "name": "python",
   "nbconvert_exporter": "python",
   "pygments_lexer": "ipython3",
   "version": "3.9.7"
  },
  "orig_nbformat": 4
 },
 "nbformat": 4,
 "nbformat_minor": 2
}
